{
 "cells": [
  {
   "cell_type": "code",
   "execution_count": null,
   "metadata": {},
   "outputs": [],
   "source": [
    "pip install cassandra-driver pymongo"
   ]
  },
  {
   "cell_type": "code",
   "execution_count": null,
   "metadata": {},
   "outputs": [],
   "source": [
    "from cassandra.cluster import Cluster\n",
    "from pymongo import MongoClient\n",
    "\n",
    "# Step 1: Connect to Cassandra\n",
    "cluster = Cluster(['127.0.0.1'])  # Replace with your Cassandra IP if needed\n",
    "session = cluster.connect('stock_data_keyspace')\n",
    "\n",
    "# Query to fetch cleaned stock data from Cassandra\n",
    "query_cleaned_stock = \"SELECT * FROM cleaned_stock_data\"\n",
    "rows_cleaned_stock = session.execute(query_cleaned_stock)\n",
    "\n",
    "# Query to fetch stock analysis data from Cassandra\n",
    "query_stock_analysis = \"SELECT * FROM stock_analysis\"\n",
    "rows_stock_analysis = session.execute(query_stock_analysis)\n",
    "\n",
    "# Step 2: Connect to MongoDB\n",
    "client = MongoClient('mongodb://localhost:27017/')\n",
    "db = client['stock_data_mongodb']  # Use your MongoDB database\n",
    "cleaned_stock_collection = db['cleaned_stock_data']  # Collection for cleaned stock data\n",
    "stock_analysis_collection = db['stock_analysis']     # Collection for stock analysis\n",
    "\n",
    "# Step 3: Transfer cleaned stock data from Cassandra to MongoDB\n",
    "cleaned_stock_data = []\n",
    "for row in rows_cleaned_stock:\n",
    "    cleaned_stock_data.append({\n",
    "        'symbol': row.symbol,\n",
    "        'timestamp': row.timestamp,\n",
    "        'price': row.price,\n",
    "        'volume': row.volume\n",
    "    })\n",
    "\n",
    "if cleaned_stock_data:\n",
    "    cleaned_stock_collection.insert_many(cleaned_stock_data)\n",
    "    print(f\"Inserted {len(cleaned_stock_data)} records into MongoDB 'cleaned_stock_data' collection.\")\n",
    "\n",
    "# Step 4: Transfer stock analysis data from Cassandra to MongoDB\n",
    "stock_analysis_data = []\n",
    "for row in rows_stock_analysis:\n",
    "    stock_analysis_data.append({\n",
    "        'symbol': row.symbol,\n",
    "        'timestamp': row.timestamp,\n",
    "        'avg_price': row.avg_price,\n",
    "        'total_volume': row.total_volume,\n",
    "        'trade_count': row.trade_count\n",
    "    })\n",
    "\n",
    "if stock_analysis_data:\n",
    "    stock_analysis_collection.insert_many(stock_analysis_data)\n",
    "    print(f\"Inserted {len(stock_analysis_data)} records into MongoDB 'stock_analysis' collection.\")\n",
    "\n",
    "# Close connections\n",
    "session.shutdown()\n",
    "client.close()"
   ]
  },
  {
   "cell_type": "code",
   "execution_count": null,
   "metadata": {},
   "outputs": [],
   "source": [
    "!pip install matplotlib\n",
    "pip install seaborn"
   ]
  },
  {
   "cell_type": "markdown",
   "metadata": {},
   "source": [
    "## update sympol column"
   ]
  },
  {
   "cell_type": "code",
   "execution_count": null,
   "metadata": {},
   "outputs": [],
   "source": [
    "cleaned_stock_data = pd.DataFrame(cleaned_stock_data)\n",
    "stock_analysis_data = pd.DataFrame(stock_analysis_data)\n",
    "import random\n",
    "\n",
    "# Define the symbols list to assign\n",
    "symbols = ['AAPL', 'AMZN', 'IC MARKETS:1', 'BINANCE:BTCUSDT', 'MSFT']\n",
    "\n",
    "# Replace the 'symbol' column with random values from the list\n",
    "cleaned_stock_data['symbol'] = [random.choice(symbols) for _ in range(len(cleaned_stock_data))]\n",
    "stock_analysis_data['symbol'] = [random.choice(symbols) for _ in range(len(stock_analysis_data))]\n",
    "\n",
    "# Display updated DataFrame\n",
    "print(cleaned_stock_data.head())\n",
    "print(stock_analysis_data.head())"
   ]
  },
  {
   "cell_type": "markdown",
   "metadata": {},
   "source": [
    "## plot Price Trends Over Time"
   ]
  },
  {
   "cell_type": "code",
   "execution_count": null,
   "metadata": {},
   "outputs": [],
   "source": [
    "import matplotlib.pyplot as plt\n",
    "import seaborn as sns\n",
    "\n",
    "plt.figure(figsize=(14, 7))\n",
    "for symbol in cleaned_stock_data['symbol'].unique():\n",
    "    subset = cleaned_stock_data[cleaned_stock_data['symbol'] == symbol]\n",
    "    plt.plot(subset['timestamp'], subset['price'], label=symbol)\n",
    "plt.xlabel('Time')\n",
    "plt.ylabel('Price')\n",
    "plt.title('Price Trends Over Time')\n",
    "plt.legend()\n",
    "plt.show()"
   ]
  },
  {
   "cell_type": "markdown",
   "metadata": {},
   "source": [
    "## Distribution Analysis"
   ]
  },
  {
   "cell_type": "code",
   "execution_count": null,
   "metadata": {},
   "outputs": [],
   "source": [
    "plt.figure(figsize=(10, 5))\n",
    "sns.histplot(cleaned_stock_data['price'], bins=30, kde=True)\n",
    "plt.title('Distribution of Stock Prices')\n",
    "plt.xlabel('Price')\n",
    "plt.ylabel('Frequency')\n",
    "plt.show()"
   ]
  },
  {
   "cell_type": "markdown",
   "metadata": {},
   "source": [
    "## Box Plot: Compare the price distributions across different symbols to identify outliers and variations."
   ]
  },
  {
   "cell_type": "code",
   "execution_count": null,
   "metadata": {},
   "outputs": [],
   "source": [
    "plt.figure(figsize=(12, 6))\n",
    "sns.boxplot(data=cleaned_stock_data, x='symbol', y='price')\n",
    "plt.title('Price Distribution by Symbol')\n",
    "plt.ylabel('Price')\n",
    "plt.xticks(rotation=45)\n",
    "plt.show()"
   ]
  },
  {
   "cell_type": "markdown",
   "metadata": {},
   "source": [
    "## Correlation Analysis"
   ]
  },
  {
   "cell_type": "code",
   "execution_count": null,
   "metadata": {},
   "outputs": [],
   "source": [
    "correlation = cleaned_stock_data.corr()\n",
    "plt.figure(figsize=(10, 8))\n",
    "sns.heatmap(correlation, annot=True, cmap='coolwarm', fmt='.2f')\n",
    "plt.title('Correlation Matrix')\n",
    "plt.show()"
   ]
  },
  {
   "cell_type": "markdown",
   "metadata": {},
   "source": [
    "## Bar Plot: Show average prices or total volume by symbol to compare performance"
   ]
  },
  {
   "cell_type": "code",
   "execution_count": null,
   "metadata": {},
   "outputs": [],
   "source": [
    "avg_price = cleaned_stock_data.groupby('symbol')['price'].mean().reset_index()\n",
    "plt.figure(figsize=(12, 6))\n",
    "sns.barplot(data=avg_price, x='symbol', y='price', palette='viridis')\n",
    "plt.title('Average Price by Symbol')\n",
    "plt.ylabel('Average Price')\n",
    "plt.xticks(rotation=45)\n",
    "plt.show()"
   ]
  },
  {
   "cell_type": "markdown",
   "metadata": {},
   "source": [
    "## Scatter Plot: Plot price vs. volume to identify any relationship between them."
   ]
  },
  {
   "cell_type": "code",
   "execution_count": null,
   "metadata": {},
   "outputs": [],
   "source": [
    "plt.figure(figsize=(10, 6))\n",
    "sns.scatterplot(data=cleaned_stock_data, x='volume', y='price', hue='symbol')\n",
    "plt.title('Price vs. Volume')\n",
    "plt.xlabel('Volume')\n",
    "plt.ylabel('Price')\n",
    "plt.legend()\n",
    "plt.show()\n"
   ]
  }
 ],
 "metadata": {
  "language_info": {
   "name": "python"
  }
 },
 "nbformat": 4,
 "nbformat_minor": 2
}
